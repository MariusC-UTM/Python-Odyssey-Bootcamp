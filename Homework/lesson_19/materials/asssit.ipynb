{
 "cells": [
  {
   "cell_type": "markdown",
   "metadata": {},
   "source": [
    "###  Threading in Python\n",
    "Explanation:\n",
    "Threading in Python allows multiple threads to execute concurrently within a single process, enabling tasks to be performed simultaneously. Threads are lighter weight compared to processes and share the same memory space, which makes communication between threads easier but also introduces challenges such as race conditions and the need for synchronization mechanisms like locks. Threading is particularly useful for I/O-bound tasks, such as reading files or fetching data from a network, where the program spends a significant amount of time waiting for external resources.\n",
    "\n",
    "Differences and Improvements:\n",
    "Threading can be more efficient than multiprocessing for tasks that involve a lot of waiting, as threads can easily switch context and utilize CPU time that would otherwise be wasted. However, due to Python's Global Interpreter Lock (GIL), threading does not achieve true parallelism for CPU-bound tasks.\n",
    "\n",
    "Use Cases:\n",
    "\n",
    "I/O-bound tasks\n",
    "Concurrent network requests\n",
    "GUI applications where responsiveness is critical"
   ]
  },
  {
   "cell_type": "code",
   "execution_count": null,
   "metadata": {},
   "outputs": [],
   "source": [
    "# Basic Threading Example\n",
    "import threading\n",
    "\n",
    "def print_numbers():\n",
    "    for i in range(1, 6):\n",
    "        print(f\"Number: {i}\")\n",
    "\n",
    "def print_letters():\n",
    "    for letter in 'abcde':\n",
    "        print(f\"Letter: {letter}\")\n",
    "\n",
    "# Create threads\n",
    "thread1 = threading.Thread(target=print_numbers)\n",
    "thread2 = threading.Thread(target=print_letters)\n",
    "\n",
    "# Start threads\n",
    "thread1.start()\n",
    "thread2.start()\n",
    "\n",
    "# Wait for both threads to complete\n",
    "thread1.join()\n",
    "thread2.join()\n",
    "\n",
    "print(\"Done\")\n"
   ]
  },
  {
   "cell_type": "code",
   "execution_count": 6,
   "metadata": {},
   "outputs": [
    {
     "name": "stdout",
     "output_type": "stream",
     "text": [
      "Final balance: 0\n"
     ]
    }
   ],
   "source": [
    "# Thread Synchronization with Lock\n",
    "import threading\n",
    "\n",
    "balance = 0\n",
    "lock = threading.Lock()\n",
    "\n",
    "def deposit(amount):\n",
    "    global balance\n",
    "    for _ in range(amount):\n",
    "        with lock:\n",
    "            balance += 1\n",
    "\n",
    "def withdraw(amount):\n",
    "    global balance\n",
    "    for _ in range(amount):\n",
    "        with lock:\n",
    "            balance -= 1\n",
    "\n",
    "# Create threads\n",
    "thread1 = threading.Thread(target=deposit, args=(100000,))\n",
    "thread2 = threading.Thread(target=withdraw, args=(100000,))\n",
    "\n",
    "# Start threads\n",
    "thread1.start()\n",
    "thread2.start()\n",
    "\n",
    "# Wait for both threads to complete\n",
    "thread1.join()\n",
    "thread2.join()\n",
    "\n",
    "print(f\"Final balance: {balance}\")\n"
   ]
  },
  {
   "cell_type": "markdown",
   "metadata": {},
   "source": [
    "### Multiprocessing in Python\n",
    "Explanation:\n",
    "Multiprocessing in Python involves running multiple processes concurrently, each with its own memory space. This allows for true parallelism, as each process can run on a different CPU core, bypassing the limitations of the GIL. Multiprocessing is ideal for CPU-bound tasks that require significant computational power, as each process can operate independently without interfering with others.\n",
    "\n",
    "Differences and Improvements:\n",
    "Multiprocessing provides better performance for CPU-bound tasks compared to threading, as it allows full utilization of multiple CPU cores. However, inter-process communication is more complex and slower compared to inter-thread communication due to the separate memory spaces. Multiprocessing also has higher overhead because of the need to create and manage multiple processes.\n",
    "\n",
    "Use Cases:\n",
    "\n",
    "CPU-bound tasks\n",
    "Parallel data processing\n",
    "Computationally intensive algorithms\n"
   ]
  },
  {
   "cell_type": "code",
   "execution_count": 7,
   "metadata": {},
   "outputs": [],
   "source": [
    "# Basic Multiprocessing Example\n",
    "\n",
    "import multiprocessing\n",
    "\n",
    "def worker(num):\n",
    "    print(f'Worker: {num}')\n",
    "\n",
    "if __name__ == '__main__':\n",
    "    processes = []\n",
    "    for i in range(5):\n",
    "        p = multiprocessing.Process(target=worker, args=(i,))\n",
    "        processes.append(p)\n",
    "        p.start()\n",
    "\n",
    "    for p in processes:\n",
    "        p.join()\n"
   ]
  },
  {
   "cell_type": "code",
   "execution_count": 8,
   "metadata": {},
   "outputs": [],
   "source": [
    "# Process Communication with Queue\n",
    "\n",
    "import multiprocessing\n",
    "\n",
    "def worker(queue):\n",
    "    queue.put(\"Hello from worker\")\n",
    "\n",
    "if __name__ == '__main__':\n",
    "    queue = multiprocessing.Queue()\n",
    "    p = multiprocessing.Process(target=worker, args=(queue,))\n",
    "    p.start()\n",
    "    print(queue.get())\n",
    "    p.join()\n"
   ]
  },
  {
   "cell_type": "code",
   "execution_count": null,
   "metadata": {},
   "outputs": [],
   "source": [
    "# Process Pool\n",
    "\n",
    "import multiprocessing\n",
    "\n",
    "def square(x):\n",
    "    return x * x\n",
    "\n",
    "if __name__ == '__main__':\n",
    "    with multiprocessing.Pool(4) as pool:\n",
    "        results = pool.map(square, [1, 2, 3, 4, 5])\n",
    "    print(results)\n"
   ]
  },
  {
   "cell_type": "markdown",
   "metadata": {},
   "source": [
    "### Unit Testing with unittest\n",
    "Explanation:\n",
    "Unit testing with the unittest module in Python involves writing tests for individual units of code, typically functions or methods, to ensure they work as expected. unittest provides a framework for creating and running tests, making it easier to catch and fix bugs early in the development process. The module includes features for test automation, setup and teardown of test environments, and mocking to simulate external dependencies.\n",
    "\n",
    "Differences and Improvements:\n",
    "Unit testing focuses on verifying the smallest parts of an application in isolation, which is different from threading and multiprocessing that deal with concurrent execution of code. Unit tests improve code reliability and maintainability by ensuring each component behaves correctly under various conditions. Unlike integration or system tests, unit tests are fast to run and provide immediate feedback on the correctness of code changes.\n",
    "\n",
    "Use Cases:\n",
    "\n",
    "Ensuring code correctness\n",
    "Regression testing\n",
    "Continuous integration and deployment (CI/CD) pipelines"
   ]
  },
  {
   "cell_type": "code",
   "execution_count": null,
   "metadata": {},
   "outputs": [],
   "source": [
    "# basic\n",
    "import unittest\n",
    "\n",
    "def add(a, b):\n",
    "    return a + b\n",
    "\n",
    "class TestMath(unittest.TestCase):\n",
    "\n",
    "    def test_add(self):\n",
    "        self.assertEqual(add(2, 3), 5)\n",
    "        self.assertEqual(add(-1, 1), 0)\n",
    "        self.assertEqual(add(-1, -1), -2)\n",
    "\n",
    "if __name__ == '__main__':\n",
    "    unittest.main()\n"
   ]
  },
  {
   "cell_type": "code",
   "execution_count": null,
   "metadata": {},
   "outputs": [],
   "source": [
    "# Test with Mocking\n",
    "\n",
    "import unittest\n",
    "from unittest.mock import patch\n",
    "\n",
    "def get_external_data():\n",
    "    # Simulate getting data from an external source\n",
    "    return \"external data\"\n",
    "\n",
    "def process_data():\n",
    "    data = get_external_data()\n",
    "    return f\"Processed {data}\"\n",
    "\n",
    "class TestProcessData(unittest.TestCase):\n",
    "\n",
    "    @patch('__main__.get_external_data', return_value=\"mocked data\")\n",
    "    def test_process_data(self, mock_get_external_data):\n",
    "        result = process_data()\n",
    "        self.assertEqual(result, \"Processed mocked data\")\n",
    "\n",
    "if __name__ == '__main__':\n",
    "    unittest.main()\n"
   ]
  }
 ],
 "metadata": {
  "kernelspec": {
   "display_name": "data",
   "language": "python",
   "name": "python3"
  },
  "language_info": {
   "codemirror_mode": {
    "name": "ipython",
    "version": 3
   },
   "file_extension": ".py",
   "mimetype": "text/x-python",
   "name": "python",
   "nbconvert_exporter": "python",
   "pygments_lexer": "ipython3",
   "version": "3.12.2"
  }
 },
 "nbformat": 4,
 "nbformat_minor": 2
}
