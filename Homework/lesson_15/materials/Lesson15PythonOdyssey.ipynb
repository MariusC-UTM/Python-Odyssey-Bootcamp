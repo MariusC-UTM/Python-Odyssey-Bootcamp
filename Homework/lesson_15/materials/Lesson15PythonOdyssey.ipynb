{
  "nbformat": 4,
  "nbformat_minor": 0,
  "metadata": {
    "colab": {
      "provenance": []
    },
    "kernelspec": {
      "name": "python3",
      "display_name": "Python 3"
    },
    "language_info": {
      "name": "python"
    }
  },
  "cells": [
    {
      "cell_type": "markdown",
      "source": [
        "La această lecție, vom explora conceptele de polimorfism, metode speciale și compoziție a claselor în Python, cu multiple exemple pentru a clarifica ideile.\n",
        "\n",
        "# Polimorfism\n",
        "Polimorfismul permite obiectelor de diferite clase să fie tratate prin aceeași interfață,\n",
        "mai ales când acestea implementează aceeași metodă. Aceasta este o componentă cheie în flexibilitatea programării orientate pe obiecte."
      ],
      "metadata": {
        "id": "_v5C3nmZxq4U"
      }
    },
    {
      "cell_type": "code",
      "execution_count": null,
      "metadata": {
        "colab": {
          "base_uri": "https://localhost:8080/"
        },
        "id": "gFoZxaZIxkKp",
        "outputId": "854dd905-a26f-43fa-d5cc-d8a8fa5e0342"
      },
      "outputs": [
        {
          "output_type": "stream",
          "name": "stdout",
          "text": [
            "Ham!animal\n",
            "Miau!animal\n"
          ]
        }
      ],
      "source": [
        "class Animal:\n",
        "    def __init__(self):\n",
        "        self.clasa = \"animal\"\n",
        "\n",
        "class Caine(Animal):\n",
        "    def __init__(self):\n",
        "        super().__init__()\n",
        "        pass # face nimic\n",
        "\n",
        "    def vorbeste(self):\n",
        "        return \"Ham!\" + self.clasa\n",
        "\n",
        "class Pisica(Animal):\n",
        "    def __init__(self):\n",
        "        super().__init__()\n",
        "        pass\n",
        "\n",
        "    def vorbeste(self):\n",
        "        return \"Miau!\" + self.clasa\n",
        "\n",
        "def sunet_animal(animal: Animal): # astept orice forma de clasa Animal (ce refera si la copii de clasa Animal)\n",
        "    print(animal.vorbeste())\n",
        "\n",
        "\n",
        "# jos sunt 2 metode cum noi putem sa transmitem instante noi de clase Caine si Pisica\n",
        "ciine = Caine()\n",
        "sunet_animal(ciine)\n",
        "\n",
        "sunet_animal(Pisica())"
      ]
    },
    {
      "cell_type": "markdown",
      "source": [
        "# Metode speciale (Magic Methods)\n",
        "Python folosește metode speciale, cum ar fi ```__init__```, ```__str__```, ```__len__```, ```__del__```, ```__call__```, ```__getitem__```, ```__setitem__```, ```__eq__```, ```__add__```, ```__iter__```  etc., pentru a permite claselor\n",
        "să implementeze și să interacționeze cu comportamentele limbajului sau operatorii integrati.\n"
      ],
      "metadata": {
        "id": "uJ5vjjnPxypc"
      }
    },
    {
      "cell_type": "code",
      "source": [
        "class Carte:\n",
        "    def __init__(self, titlu, autor):\n",
        "        self.titlu = titlu\n",
        "        self.autor = autor\n",
        "        self.counter = 0\n",
        "        # return self\n",
        "\n",
        "    def __str__(self):  # lucreaza numai cu returnare de string\n",
        "        return f\"{self.titlu} de {self.autor}\"\n",
        "\n",
        "    def __len__(self):  # numarare de ceva ce este inauntru de obiect\n",
        "        return len(self.titlu) # inca o data, returnam valoare (Atentie, integer)\n",
        "\n",
        "    def __del__(self):\n",
        "        print(f\"Cartea {self.titlu} a fost ștearsă\")\n",
        "\n",
        "    def __call__(self):\n",
        "        self.counter += 1\n",
        "        return f\"{self.titlu} de {self.autor}, care a fost chemat {self.counter} ori\"\n",
        "\n",
        "    def __getitem__(self, index):\n",
        "        return self.titlu[index]\n",
        "\n",
        "    def __setitem__(self, index, valoare):\n",
        "        self.titlu = self.titlu[:index] + valoare + self.titlu[index+1:]\n",
        "\n",
        "    def __eq__(self, alta_carte):\n",
        "        return self.titlu == alta_carte.titlu and self.autor == alta_carte.autor\n",
        "\n",
        "    def __add__(self, alta_carte):\n",
        "        return Carte(f\"{self.titlu} și {alta_carte.titlu}\", f\"{self.autor} și {alta_carte.autor}\")\n",
        "\n",
        "    def __iter__(self):\n",
        "        return iter(self.titlu)\n",
        "\n",
        "\n",
        "carte = Carte(\"OOP în Python\", \"Ion Popescu\")\n",
        "print(carte)  # Apelul metodei __str__\n",
        "#print(f\"{carte.titlu} de {carte.autor}\")\n",
        "print(len(carte))  # Apelul metodei __len__\n",
        "del carte  # Apelul metodei __del__\n",
        "# print(carte)  # Va genera eroare deoarece obiectul nu mai există\n",
        "carte = Carte(\"OOP în Python\", \"Ion Popescu\")\n",
        "# print(carte())  # Apelul metodei __call__\n",
        "# print(carte())\n",
        "print(carte[0])  # Apelul metodei __getitem__(0)\n",
        "carte[0] = \"P\"\n",
        "carte2 = Carte(\"OOP în Python\", \"Ion Popescu\")\n",
        "print(carte == carte2)  # Apelul metodei __eq__\n",
        "carte3 = carte + carte2\n",
        "print(carte3)  # Apelul metodei __add__\n",
        "for litera in carte:\n",
        "    print(litera)  # Apelul metodei __iter__"
      ],
      "metadata": {
        "colab": {
          "base_uri": "https://localhost:8080/"
        },
        "id": "T6jQ_R9Fx948",
        "outputId": "6a5ed568-3bd2-4937-c1d7-858d6f436fb8"
      },
      "execution_count": null,
      "outputs": [
        {
          "output_type": "stream",
          "name": "stdout",
          "text": [
            "OOP în Python de Ion Popescu\n",
            "13\n",
            "Cartea OOP în Python a fost ștearsă\n",
            "O\n",
            "False\n",
            "POP în Python și OOP în Python de Ion Popescu și Ion Popescu\n",
            "P\n",
            "O\n",
            "P\n",
            " \n",
            "î\n",
            "n\n",
            " \n",
            "P\n",
            "y\n",
            "t\n",
            "h\n",
            "o\n",
            "n\n",
            "Cartea OOP în Python a fost ștearsă\n",
            "Cartea POP în Python și OOP în Python a fost ștearsă\n",
            "Cartea POP în Python a fost ștearsă\n"
          ]
        }
      ]
    },
    {
      "cell_type": "markdown",
      "source": [
        "# Compoziție a claselor\n",
        "Compoziția este un principiu de design OOP unde clasele pot conține instanțe ale altor clase,\n",
        "ceea ce permite o structură mai flexibilă și modulară."
      ],
      "metadata": {
        "id": "wnorKYauyFFb"
      }
    },
    {
      "cell_type": "code",
      "source": [
        "class Autor:\n",
        "    def __init__(self, nume):\n",
        "        self.nume = nume\n",
        "\n",
        "class Carte:\n",
        "    def __init__(self, titlu, autor: Autor):\n",
        "        self.titlu = titlu\n",
        "        self.autor = autor  # Autor este o instanță a clasei Autor\n",
        "\n",
        "ion = Autor(\"Ion Popescu\")\n",
        "carte = Carte(\"OOP în Python\", ion)\n",
        "print(f\"{carte.titlu} scrisă de {carte.autor.nume}\")"
      ],
      "metadata": {
        "id": "rSMIqNpLyKFj",
        "outputId": "b41f18d7-a79c-43c3-ac3b-3c8289a23f9f",
        "colab": {
          "base_uri": "https://localhost:8080/"
        }
      },
      "execution_count": null,
      "outputs": [
        {
          "output_type": "stream",
          "name": "stdout",
          "text": [
            "OOP în Python scrisă de Ion Popescu\n",
            "Cartea POP în Python a fost ștearsă\n"
          ]
        }
      ]
    }
  ]
}